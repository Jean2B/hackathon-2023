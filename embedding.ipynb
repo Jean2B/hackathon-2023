{
  "nbformat": 4,
  "nbformat_minor": 0,
  "metadata": {
    "colab": {
      "provenance": []
    },
    "kernelspec": {
      "name": "python3",
      "display_name": "Python 3"
    },
    "language_info": {
      "name": "python"
    }
  },
  "cells": [
    {
      "cell_type": "code",
      "source": [
        "pip install openai scikit-learn"
      ],
      "metadata": {
        "colab": {
          "base_uri": "https://localhost:8080/"
        },
        "id": "S3RcSSbnkCDC",
        "outputId": "f5fb8367-f0c2-4875-9924-72cf3a9d73f4"
      },
      "execution_count": 1,
      "outputs": [
        {
          "output_type": "stream",
          "name": "stdout",
          "text": [
            "Requirement already satisfied: openai in /usr/local/lib/python3.10/dist-packages (1.6.0)\n",
            "Requirement already satisfied: scikit-learn in /usr/local/lib/python3.10/dist-packages (1.2.2)\n",
            "Requirement already satisfied: anyio<5,>=3.5.0 in /usr/local/lib/python3.10/dist-packages (from openai) (3.7.1)\n",
            "Requirement already satisfied: distro<2,>=1.7.0 in /usr/lib/python3/dist-packages (from openai) (1.7.0)\n",
            "Requirement already satisfied: httpx<1,>=0.23.0 in /usr/local/lib/python3.10/dist-packages (from openai) (0.26.0)\n",
            "Requirement already satisfied: pydantic<3,>=1.9.0 in /usr/local/lib/python3.10/dist-packages (from openai) (1.10.13)\n",
            "Requirement already satisfied: sniffio in /usr/local/lib/python3.10/dist-packages (from openai) (1.3.0)\n",
            "Requirement already satisfied: tqdm>4 in /usr/local/lib/python3.10/dist-packages (from openai) (4.66.1)\n",
            "Requirement already satisfied: typing-extensions<5,>=4.7 in /usr/local/lib/python3.10/dist-packages (from openai) (4.9.0)\n",
            "Requirement already satisfied: numpy>=1.17.3 in /usr/local/lib/python3.10/dist-packages (from scikit-learn) (1.23.5)\n",
            "Requirement already satisfied: scipy>=1.3.2 in /usr/local/lib/python3.10/dist-packages (from scikit-learn) (1.11.4)\n",
            "Requirement already satisfied: joblib>=1.1.1 in /usr/local/lib/python3.10/dist-packages (from scikit-learn) (1.3.2)\n",
            "Requirement already satisfied: threadpoolctl>=2.0.0 in /usr/local/lib/python3.10/dist-packages (from scikit-learn) (3.2.0)\n",
            "Requirement already satisfied: idna>=2.8 in /usr/local/lib/python3.10/dist-packages (from anyio<5,>=3.5.0->openai) (3.6)\n",
            "Requirement already satisfied: exceptiongroup in /usr/local/lib/python3.10/dist-packages (from anyio<5,>=3.5.0->openai) (1.2.0)\n",
            "Requirement already satisfied: certifi in /usr/local/lib/python3.10/dist-packages (from httpx<1,>=0.23.0->openai) (2023.11.17)\n",
            "Requirement already satisfied: httpcore==1.* in /usr/local/lib/python3.10/dist-packages (from httpx<1,>=0.23.0->openai) (1.0.2)\n",
            "Requirement already satisfied: h11<0.15,>=0.13 in /usr/local/lib/python3.10/dist-packages (from httpcore==1.*->httpx<1,>=0.23.0->openai) (0.14.0)\n"
          ]
        }
      ]
    },
    {
      "cell_type": "code",
      "execution_count": 2,
      "metadata": {
        "colab": {
          "base_uri": "https://localhost:8080/"
        },
        "id": "o4ByCqn6j2HE",
        "outputId": "dc2cdcb6-27b0-4e82-e7bd-6481410b8529"
      },
      "outputs": [
        {
          "output_type": "stream",
          "name": "stdout",
          "text": [
            "Texte d'exemple: Similarity = 1.0000000000000007\n",
            "Encore un exemple: Similarity = 0.903788993861423\n",
            "Autre texte: Similarity = 0.8867500700023128\n",
            "Texte différent: Similarity = 0.8823922010604619\n",
            "Chaîne similaire: Similarity = 0.8104294628624151\n",
            "12345: Similarity = 0.768353792201181\n"
          ]
        }
      ],
      "source": [
        "from openai import OpenAI\n",
        "from sklearn.metrics.pairwise import cosine_similarity\n",
        "import json\n",
        "\n",
        "api_key = ''\n",
        "\n",
        "def get_embedding(text, model=\"text-embedding-ada-002\"):\n",
        "    client = OpenAI(api_key=api_key)\n",
        "    response = client.embeddings.create(\n",
        "        input=text,\n",
        "        model=model\n",
        "    )\n",
        "    return response.data[0].embedding\n",
        "\n",
        "def find_similar_strings(target_embedding, candidate_strings, model=\"text-embedding-ada-002\"):\n",
        "    similarities = []\n",
        "    target_embedding = [target_embedding]  # Sklearn cosine_similarity expects 2D array\n",
        "\n",
        "    for candidate in candidate_strings:\n",
        "        candidate_embedding = get_embedding(candidate, model)\n",
        "        candidate_embedding = [candidate_embedding]  # Sklearn cosine_similarity expects 2D array\n",
        "        similarity = cosine_similarity(target_embedding, candidate_embedding)[0][0]\n",
        "        similarities.append((candidate, similarity))\n",
        "\n",
        "    # Sort by similarity in descending order\n",
        "    similarities.sort(key=lambda x: x[1], reverse=True)\n",
        "\n",
        "    return similarities\n",
        "\n",
        "# Example usage:\n",
        "target_string = \"Texte d'exemple\"\n",
        "candidate_strings = [\"Autre texte\", \"Encore un exemple\", \"Chaîne similaire\", \"Texte différent\", \"Texte d'exemple\", \"12345\"]\n",
        "\n",
        "target_embedding = get_embedding(target_string)\n",
        "\n",
        "# Sérialisation JSON pour l'insertion dans la base de données\n",
        "serialized_list = json.dumps(target_embedding)\n",
        "\n",
        "similarities = find_similar_strings(target_embedding, candidate_strings)\n",
        "\n",
        "# Print the sorted list of similar strings and their similarity scores\n",
        "for candidate, similarity in similarities:\n",
        "    print(f\"{candidate}: Similarity = {similarity}\")\n"
      ]
    },
    {
      "cell_type": "code",
      "source": [],
      "metadata": {
        "id": "4370yQm10KjH"
      },
      "execution_count": 2,
      "outputs": []
    }
  ]
}